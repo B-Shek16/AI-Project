{
  "cells": [
    {
      "cell_type": "markdown",
      "metadata": {
        "id": "uRsVtQ8zbYAn"
      },
      "source": [
        "# 0. Install Dependencies and Bring in Data"
      ]
    },
    {
      "cell_type": "code",
      "execution_count": null,
      "metadata": {
        "jupyter": {
          "outputs_hidden": true
        },
        "tags": [],
        "id": "GVF0B5TabYAs"
      },
      "outputs": [],
      "source": [
        "!pip install tensorflow tensorflow-gpu pandas matplotlib sklearn"
      ]
    },
    {
      "cell_type": "code",
      "execution_count": null,
      "metadata": {
        "tags": [],
        "id": "_VRD2NGvbYAu"
      },
      "outputs": [],
      "source": [
        "import os\n",
        "import pandas as pd\n",
        "import tensorflow as tf\n",
        "import numpy as np"
      ]
    },
    {
      "cell_type": "code",
      "source": [
        "from google.colab import drive"
      ],
      "metadata": {
        "id": "GAehfG3blGto"
      },
      "execution_count": null,
      "outputs": []
    },
    {
      "cell_type": "code",
      "source": [
        "drive.mount('/content/drive')"
      ],
      "metadata": {
        "colab": {
          "base_uri": "https://localhost:8080/"
        },
        "id": "Jae2yb8JlREL",
        "outputId": "9a13d06b-47e0-4f6a-96cb-4b09337db9ee"
      },
      "execution_count": null,
      "outputs": [
        {
          "output_type": "stream",
          "name": "stdout",
          "text": [
            "Drive already mounted at /content/drive; to attempt to forcibly remount, call drive.mount(\"/content/drive\", force_remount=True).\n"
          ]
        }
      ]
    },
    {
      "cell_type": "code",
      "execution_count": null,
      "metadata": {
        "tags": [],
        "id": "1z_dp9xXbYAv"
      },
      "outputs": [],
      "source": [
        "df = pd.read_csv(os.path.join('jigsaw-toxic-comment-classification-challenge','/content/drive/MyDrive/Dataset/trainnew.csv', '/content/drive/MyDrive/Dataset/trainnew.csv'))"
      ]
    },
    {
      "cell_type": "code",
      "execution_count": null,
      "metadata": {
        "tags": [],
        "colab": {
          "base_uri": "https://localhost:8080/",
          "height": 206
        },
        "id": "4cIWLM1nbYAv",
        "outputId": "c8484d5d-b134-4564-8cf5-901b3c8beed2"
      },
      "outputs": [
        {
          "output_type": "execute_result",
          "data": {
            "text/plain": [
              "                 id                                       comment_text  toxic  \\\n",
              "0  0000997932d777bf  Explanation\\nWhy the edits made under my usern...      0   \n",
              "1  000103f0d9cfb60f  D'aww! He matches this background colour I'm s...      0   \n",
              "2  000113f07ec002fd  Hey man, I'm really not trying to edit war. It...      0   \n",
              "3  0001b41b1c6bb37e  \"\\nMore\\nI can't make any real suggestions on ...      0   \n",
              "4  0001d958c54c6e35  You, sir, are my hero. Any chance you remember...      0   \n",
              "\n",
              "   severe_toxic  obscene  threat  insult  identity_hate  \n",
              "0             0        0       0       0              0  \n",
              "1             0        0       0       0              0  \n",
              "2             0        0       0       0              0  \n",
              "3             0        0       0       0              0  \n",
              "4             0        0       0       0              0  "
            ],
            "text/html": [
              "\n",
              "  <div id=\"df-fd0b19df-cc98-488f-8d2a-fed8663c2087\">\n",
              "    <div class=\"colab-df-container\">\n",
              "      <div>\n",
              "<style scoped>\n",
              "    .dataframe tbody tr th:only-of-type {\n",
              "        vertical-align: middle;\n",
              "    }\n",
              "\n",
              "    .dataframe tbody tr th {\n",
              "        vertical-align: top;\n",
              "    }\n",
              "\n",
              "    .dataframe thead th {\n",
              "        text-align: right;\n",
              "    }\n",
              "</style>\n",
              "<table border=\"1\" class=\"dataframe\">\n",
              "  <thead>\n",
              "    <tr style=\"text-align: right;\">\n",
              "      <th></th>\n",
              "      <th>id</th>\n",
              "      <th>comment_text</th>\n",
              "      <th>toxic</th>\n",
              "      <th>severe_toxic</th>\n",
              "      <th>obscene</th>\n",
              "      <th>threat</th>\n",
              "      <th>insult</th>\n",
              "      <th>identity_hate</th>\n",
              "    </tr>\n",
              "  </thead>\n",
              "  <tbody>\n",
              "    <tr>\n",
              "      <th>0</th>\n",
              "      <td>0000997932d777bf</td>\n",
              "      <td>Explanation\\nWhy the edits made under my usern...</td>\n",
              "      <td>0</td>\n",
              "      <td>0</td>\n",
              "      <td>0</td>\n",
              "      <td>0</td>\n",
              "      <td>0</td>\n",
              "      <td>0</td>\n",
              "    </tr>\n",
              "    <tr>\n",
              "      <th>1</th>\n",
              "      <td>000103f0d9cfb60f</td>\n",
              "      <td>D'aww! He matches this background colour I'm s...</td>\n",
              "      <td>0</td>\n",
              "      <td>0</td>\n",
              "      <td>0</td>\n",
              "      <td>0</td>\n",
              "      <td>0</td>\n",
              "      <td>0</td>\n",
              "    </tr>\n",
              "    <tr>\n",
              "      <th>2</th>\n",
              "      <td>000113f07ec002fd</td>\n",
              "      <td>Hey man, I'm really not trying to edit war. It...</td>\n",
              "      <td>0</td>\n",
              "      <td>0</td>\n",
              "      <td>0</td>\n",
              "      <td>0</td>\n",
              "      <td>0</td>\n",
              "      <td>0</td>\n",
              "    </tr>\n",
              "    <tr>\n",
              "      <th>3</th>\n",
              "      <td>0001b41b1c6bb37e</td>\n",
              "      <td>\"\\nMore\\nI can't make any real suggestions on ...</td>\n",
              "      <td>0</td>\n",
              "      <td>0</td>\n",
              "      <td>0</td>\n",
              "      <td>0</td>\n",
              "      <td>0</td>\n",
              "      <td>0</td>\n",
              "    </tr>\n",
              "    <tr>\n",
              "      <th>4</th>\n",
              "      <td>0001d958c54c6e35</td>\n",
              "      <td>You, sir, are my hero. Any chance you remember...</td>\n",
              "      <td>0</td>\n",
              "      <td>0</td>\n",
              "      <td>0</td>\n",
              "      <td>0</td>\n",
              "      <td>0</td>\n",
              "      <td>0</td>\n",
              "    </tr>\n",
              "  </tbody>\n",
              "</table>\n",
              "</div>\n",
              "      <button class=\"colab-df-convert\" onclick=\"convertToInteractive('df-fd0b19df-cc98-488f-8d2a-fed8663c2087')\"\n",
              "              title=\"Convert this dataframe to an interactive table.\"\n",
              "              style=\"display:none;\">\n",
              "        \n",
              "  <svg xmlns=\"http://www.w3.org/2000/svg\" height=\"24px\"viewBox=\"0 0 24 24\"\n",
              "       width=\"24px\">\n",
              "    <path d=\"M0 0h24v24H0V0z\" fill=\"none\"/>\n",
              "    <path d=\"M18.56 5.44l.94 2.06.94-2.06 2.06-.94-2.06-.94-.94-2.06-.94 2.06-2.06.94zm-11 1L8.5 8.5l.94-2.06 2.06-.94-2.06-.94L8.5 2.5l-.94 2.06-2.06.94zm10 10l.94 2.06.94-2.06 2.06-.94-2.06-.94-.94-2.06-.94 2.06-2.06.94z\"/><path d=\"M17.41 7.96l-1.37-1.37c-.4-.4-.92-.59-1.43-.59-.52 0-1.04.2-1.43.59L10.3 9.45l-7.72 7.72c-.78.78-.78 2.05 0 2.83L4 21.41c.39.39.9.59 1.41.59.51 0 1.02-.2 1.41-.59l7.78-7.78 2.81-2.81c.8-.78.8-2.07 0-2.86zM5.41 20L4 18.59l7.72-7.72 1.47 1.35L5.41 20z\"/>\n",
              "  </svg>\n",
              "      </button>\n",
              "      \n",
              "  <style>\n",
              "    .colab-df-container {\n",
              "      display:flex;\n",
              "      flex-wrap:wrap;\n",
              "      gap: 12px;\n",
              "    }\n",
              "\n",
              "    .colab-df-convert {\n",
              "      background-color: #E8F0FE;\n",
              "      border: none;\n",
              "      border-radius: 50%;\n",
              "      cursor: pointer;\n",
              "      display: none;\n",
              "      fill: #1967D2;\n",
              "      height: 32px;\n",
              "      padding: 0 0 0 0;\n",
              "      width: 32px;\n",
              "    }\n",
              "\n",
              "    .colab-df-convert:hover {\n",
              "      background-color: #E2EBFA;\n",
              "      box-shadow: 0px 1px 2px rgba(60, 64, 67, 0.3), 0px 1px 3px 1px rgba(60, 64, 67, 0.15);\n",
              "      fill: #174EA6;\n",
              "    }\n",
              "\n",
              "    [theme=dark] .colab-df-convert {\n",
              "      background-color: #3B4455;\n",
              "      fill: #D2E3FC;\n",
              "    }\n",
              "\n",
              "    [theme=dark] .colab-df-convert:hover {\n",
              "      background-color: #434B5C;\n",
              "      box-shadow: 0px 1px 3px 1px rgba(0, 0, 0, 0.15);\n",
              "      filter: drop-shadow(0px 1px 2px rgba(0, 0, 0, 0.3));\n",
              "      fill: #FFFFFF;\n",
              "    }\n",
              "  </style>\n",
              "\n",
              "      <script>\n",
              "        const buttonEl =\n",
              "          document.querySelector('#df-fd0b19df-cc98-488f-8d2a-fed8663c2087 button.colab-df-convert');\n",
              "        buttonEl.style.display =\n",
              "          google.colab.kernel.accessAllowed ? 'block' : 'none';\n",
              "\n",
              "        async function convertToInteractive(key) {\n",
              "          const element = document.querySelector('#df-fd0b19df-cc98-488f-8d2a-fed8663c2087');\n",
              "          const dataTable =\n",
              "            await google.colab.kernel.invokeFunction('convertToInteractive',\n",
              "                                                     [key], {});\n",
              "          if (!dataTable) return;\n",
              "\n",
              "          const docLinkHtml = 'Like what you see? Visit the ' +\n",
              "            '<a target=\"_blank\" href=https://colab.research.google.com/notebooks/data_table.ipynb>data table notebook</a>'\n",
              "            + ' to learn more about interactive tables.';\n",
              "          element.innerHTML = '';\n",
              "          dataTable['output_type'] = 'display_data';\n",
              "          await google.colab.output.renderOutput(dataTable, element);\n",
              "          const docLink = document.createElement('div');\n",
              "          docLink.innerHTML = docLinkHtml;\n",
              "          element.appendChild(docLink);\n",
              "        }\n",
              "      </script>\n",
              "    </div>\n",
              "  </div>\n",
              "  "
            ]
          },
          "metadata": {},
          "execution_count": 35
        }
      ],
      "source": [
        "df.head()"
      ]
    },
    {
      "cell_type": "code",
      "source": [
        "from google.colab import drive\n",
        "drive.mount('/content/drive')"
      ],
      "metadata": {
        "colab": {
          "base_uri": "https://localhost:8080/"
        },
        "id": "AwfsOfxJl_aJ",
        "outputId": "248d6f2d-fa02-402d-8c67-407e16a48d56"
      },
      "execution_count": null,
      "outputs": [
        {
          "output_type": "stream",
          "name": "stdout",
          "text": [
            "Drive already mounted at /content/drive; to attempt to forcibly remount, call drive.mount(\"/content/drive\", force_remount=True).\n"
          ]
        }
      ]
    },
    {
      "cell_type": "markdown",
      "metadata": {
        "id": "4zpIWR_fbYAv"
      },
      "source": [
        "# 1. Preprocess"
      ]
    },
    {
      "cell_type": "code",
      "execution_count": null,
      "metadata": {
        "jupyter": {
          "outputs_hidden": true
        },
        "tags": [],
        "id": "uMY0TxxAbYAw"
      },
      "outputs": [],
      "source": [
        "!pip list"
      ]
    },
    {
      "cell_type": "code",
      "execution_count": null,
      "metadata": {
        "tags": [],
        "id": "uTHaDORQbYAw"
      },
      "outputs": [],
      "source": [
        "from tensorflow.keras.layers import TextVectorization"
      ]
    },
    {
      "cell_type": "code",
      "execution_count": null,
      "metadata": {
        "tags": [],
        "id": "ThZzir6_bYAx"
      },
      "outputs": [],
      "source": [
        "X = df['comment_text']\n",
        "y = df[df.columns[2:]].values"
      ]
    },
    {
      "cell_type": "code",
      "execution_count": null,
      "metadata": {
        "tags": [],
        "id": "i0XCRVWGbYAx"
      },
      "outputs": [],
      "source": [
        "MAX_FEATURES = 200000 # number of words in the vocab"
      ]
    },
    {
      "cell_type": "code",
      "execution_count": null,
      "metadata": {
        "tags": [],
        "id": "qbesi-xpbYAy"
      },
      "outputs": [],
      "source": [
        "vectorizer = TextVectorization(max_tokens=MAX_FEATURES,\n",
        "                               output_sequence_length=1800,\n",
        "                               output_mode='int')"
      ]
    },
    {
      "cell_type": "code",
      "execution_count": null,
      "metadata": {
        "tags": [],
        "id": "NtRxFALRbYAy"
      },
      "outputs": [],
      "source": [
        "vectorizer.adapt(X.values)"
      ]
    },
    {
      "cell_type": "code",
      "execution_count": null,
      "metadata": {
        "tags": [],
        "id": "jLuK2INtbYAy"
      },
      "outputs": [],
      "source": [
        "vectorized_text = vectorizer(X.values)"
      ]
    },
    {
      "cell_type": "code",
      "execution_count": null,
      "metadata": {
        "tags": [],
        "id": "HC1SGmcTbYAy"
      },
      "outputs": [],
      "source": [
        "#MCSHBAP - map, chache, shuffle, batch, prefetch  from_tensor_slices, list_file\n",
        "dataset = tf.data.Dataset.from_tensor_slices((vectorized_text, y))\n",
        "dataset = dataset.cache()\n",
        "dataset = dataset.shuffle(1900)\n",
        "dataset = dataset.batch(16)\n",
        "dataset = dataset.prefetch(8) # helps bottlenecks"
      ]
    },
    {
      "cell_type": "code",
      "execution_count": null,
      "metadata": {
        "tags": [],
        "id": "G4lRdMHUbYAz"
      },
      "outputs": [],
      "source": [
        "train = dataset.take(int(len(dataset)*.7))\n",
        "val = dataset.skip(int(len(dataset)*.7)).take(int(len(dataset)*.3))\n",
        "test = dataset.skip(int(len(dataset)*.9)).take(int(len(dataset)*.1))"
      ]
    },
    {
      "cell_type": "code",
      "execution_count": null,
      "metadata": {
        "tags": [],
        "id": "4FLxBdwzbYAz"
      },
      "outputs": [],
      "source": [
        "from tensorflow.keras.models import Sequential\n",
        "from tensorflow.keras.layers import LSTM, Dropout, Bidirectional, Dense, Embedding, Conv1D, MaxPooling1D, GlobalMaxPool1D"
      ]
    },
    {
      "cell_type": "code",
      "execution_count": null,
      "metadata": {
        "tags": [],
        "id": "bD28k96WbYAz"
      },
      "outputs": [],
      "source": [
        "model = Sequential()\n",
        "# Create the embedding layer \n",
        "model.add(Embedding(MAX_FEATURES+1, 32))\n",
        "\n",
        "# Feature extractor Fully connected layers\n",
        "model.add(Conv1D(32, kernel_size = 3, activation = 'tanh'))\n",
        "model.add(MaxPooling1D(3))\n",
        "model.add(GlobalMaxPool1D())\n",
        "model.add(Dense(128, activation='relu'))\n",
        "model.add(Dense(256, activation='relu'))\n",
        "model.add(Dense(128, activation='relu'))\n",
        "# Final layer \n",
        "model.add(Dense(6, activation='sigmoid'))"
      ]
    },
    {
      "cell_type": "code",
      "execution_count": null,
      "metadata": {
        "tags": [],
        "id": "fDfoQV3NbYA0"
      },
      "outputs": [],
      "source": [
        "model.compile(loss='BinaryCrossentropy', optimizer='Adam')"
      ]
    },
    {
      "cell_type": "code",
      "execution_count": null,
      "metadata": {
        "tags": [],
        "colab": {
          "base_uri": "https://localhost:8080/"
        },
        "id": "JnoE3VfSbYA0",
        "outputId": "eed7e522-3c1b-438e-9a92-6c98d35dc391"
      },
      "outputs": [
        {
          "output_type": "stream",
          "name": "stdout",
          "text": [
            "Model: \"sequential_4\"\n",
            "_________________________________________________________________\n",
            " Layer (type)                Output Shape              Param #   \n",
            "=================================================================\n",
            " embedding_4 (Embedding)     (None, None, 32)          6400032   \n",
            "                                                                 \n",
            " conv1d_4 (Conv1D)           (None, None, 32)          3104      \n",
            "                                                                 \n",
            " max_pooling1d_3 (MaxPooling  (None, None, 32)         0         \n",
            " 1D)                                                             \n",
            "                                                                 \n",
            " global_max_pooling1d_3 (Glo  (None, 32)               0         \n",
            " balMaxPooling1D)                                                \n",
            "                                                                 \n",
            " dense_12 (Dense)            (None, 128)               4224      \n",
            "                                                                 \n",
            " dense_13 (Dense)            (None, 256)               33024     \n",
            "                                                                 \n",
            " dense_14 (Dense)            (None, 128)               32896     \n",
            "                                                                 \n",
            " dense_15 (Dense)            (None, 6)                 774       \n",
            "                                                                 \n",
            "=================================================================\n",
            "Total params: 6,474,054\n",
            "Trainable params: 6,474,054\n",
            "Non-trainable params: 0\n",
            "_________________________________________________________________\n"
          ]
        }
      ],
      "source": [
        "model.summary()"
      ]
    },
    {
      "cell_type": "code",
      "execution_count": null,
      "metadata": {
        "tags": [],
        "colab": {
          "base_uri": "https://localhost:8080/"
        },
        "id": "gk-qe5O_bYA0",
        "outputId": "d0e12cca-097d-4308-f06c-f85dd77e51fe"
      },
      "outputs": [
        {
          "output_type": "stream",
          "name": "stdout",
          "text": [
            "Epoch 1/100\n",
            "88/88 [==============================] - 12s 133ms/step - loss: 0.1142 - val_loss: 0.1133\n",
            "Epoch 2/100\n",
            "88/88 [==============================] - 11s 127ms/step - loss: 0.0962 - val_loss: 0.0703\n",
            "Epoch 3/100\n",
            "88/88 [==============================] - 11s 129ms/step - loss: 0.0676 - val_loss: 0.0635\n",
            "Epoch 4/100\n",
            "88/88 [==============================] - 13s 145ms/step - loss: 0.0620 - val_loss: 0.0482\n",
            "Epoch 5/100\n",
            "88/88 [==============================] - 11s 127ms/step - loss: 0.0518 - val_loss: 0.0343\n",
            "Epoch 6/100\n",
            "88/88 [==============================] - 11s 125ms/step - loss: 0.0403 - val_loss: 0.0377\n",
            "Epoch 7/100\n",
            "88/88 [==============================] - 13s 146ms/step - loss: 0.0330 - val_loss: 0.0307\n",
            "Epoch 8/100\n",
            "88/88 [==============================] - 12s 133ms/step - loss: 0.0341 - val_loss: 0.0326\n",
            "Epoch 9/100\n",
            "88/88 [==============================] - 14s 155ms/step - loss: 0.0350 - val_loss: 0.0303\n",
            "Epoch 10/100\n",
            "88/88 [==============================] - 13s 144ms/step - loss: 0.0273 - val_loss: 0.0239\n",
            "Epoch 11/100\n",
            "88/88 [==============================] - 13s 146ms/step - loss: 0.0235 - val_loss: 0.0163\n",
            "Epoch 12/100\n",
            "88/88 [==============================] - 12s 139ms/step - loss: 0.0220 - val_loss: 0.0246\n",
            "Epoch 13/100\n",
            "88/88 [==============================] - 13s 144ms/step - loss: 0.0201 - val_loss: 0.0203\n",
            "Epoch 14/100\n",
            "88/88 [==============================] - 10s 118ms/step - loss: 0.0170 - val_loss: 0.0193\n",
            "Epoch 15/100\n",
            "88/88 [==============================] - 11s 120ms/step - loss: 0.0202 - val_loss: 0.0120\n",
            "Epoch 16/100\n",
            "88/88 [==============================] - 12s 134ms/step - loss: 0.0173 - val_loss: 0.0206\n",
            "Epoch 17/100\n",
            "88/88 [==============================] - 10s 119ms/step - loss: 0.0156 - val_loss: 0.0186\n",
            "Epoch 18/100\n",
            "88/88 [==============================] - 10s 119ms/step - loss: 0.0159 - val_loss: 0.0120\n",
            "Epoch 19/100\n",
            "88/88 [==============================] - 10s 118ms/step - loss: 0.0134 - val_loss: 0.0175\n",
            "Epoch 20/100\n",
            "88/88 [==============================] - 12s 137ms/step - loss: 0.0131 - val_loss: 0.0145\n",
            "Epoch 21/100\n",
            "88/88 [==============================] - 11s 124ms/step - loss: 0.0149 - val_loss: 0.0151\n",
            "Epoch 22/100\n",
            "88/88 [==============================] - 11s 120ms/step - loss: 0.0123 - val_loss: 0.0199\n",
            "Epoch 23/100\n",
            "88/88 [==============================] - 12s 141ms/step - loss: 0.0191 - val_loss: 0.0637\n",
            "Epoch 24/100\n",
            "88/88 [==============================] - 12s 138ms/step - loss: 0.0248 - val_loss: 0.0184\n",
            "Epoch 25/100\n",
            "88/88 [==============================] - 11s 121ms/step - loss: 0.0161 - val_loss: 0.0096\n",
            "Epoch 26/100\n",
            "88/88 [==============================] - 11s 121ms/step - loss: 0.0091 - val_loss: 0.0075\n",
            "Epoch 27/100\n",
            "88/88 [==============================] - 12s 135ms/step - loss: 0.0067 - val_loss: 0.0054\n",
            "Epoch 28/100\n",
            "88/88 [==============================] - 13s 153ms/step - loss: 0.0084 - val_loss: 0.0086\n",
            "Epoch 29/100\n",
            "88/88 [==============================] - 11s 130ms/step - loss: 0.0088 - val_loss: 0.0037\n",
            "Epoch 30/100\n",
            "88/88 [==============================] - 14s 160ms/step - loss: 0.0060 - val_loss: 0.0037\n",
            "Epoch 31/100\n",
            "88/88 [==============================] - 11s 121ms/step - loss: 0.0056 - val_loss: 0.0062\n",
            "Epoch 32/100\n",
            "88/88 [==============================] - 12s 141ms/step - loss: 0.0039 - val_loss: 0.0038\n",
            "Epoch 33/100\n",
            "88/88 [==============================] - 11s 121ms/step - loss: 0.0043 - val_loss: 0.0045\n",
            "Epoch 34/100\n",
            "88/88 [==============================] - 11s 121ms/step - loss: 0.0040 - val_loss: 0.0025\n",
            "Epoch 35/100\n",
            "88/88 [==============================] - 11s 122ms/step - loss: 0.0026 - val_loss: 0.0025\n",
            "Epoch 36/100\n",
            "88/88 [==============================] - 12s 139ms/step - loss: 0.0045 - val_loss: 0.0027\n",
            "Epoch 37/100\n",
            "88/88 [==============================] - 11s 125ms/step - loss: 0.0028 - val_loss: 0.0025\n",
            "Epoch 38/100\n",
            "88/88 [==============================] - 11s 123ms/step - loss: 0.0021 - val_loss: 0.0019\n",
            "Epoch 39/100\n",
            "88/88 [==============================] - 12s 139ms/step - loss: 0.0029 - val_loss: 0.0025\n",
            "Epoch 40/100\n",
            "88/88 [==============================] - 11s 122ms/step - loss: 0.0023 - val_loss: 9.3320e-04\n",
            "Epoch 41/100\n",
            "88/88 [==============================] - 11s 122ms/step - loss: 0.0016 - val_loss: 7.0006e-04\n",
            "Epoch 42/100\n",
            "88/88 [==============================] - 12s 133ms/step - loss: 0.0012 - val_loss: 0.0024\n",
            "Epoch 43/100\n",
            "88/88 [==============================] - 11s 123ms/step - loss: 0.0027 - val_loss: 0.0042\n",
            "Epoch 44/100\n",
            "88/88 [==============================] - 11s 121ms/step - loss: 0.0070 - val_loss: 0.0073\n",
            "Epoch 45/100\n",
            "88/88 [==============================] - 10s 119ms/step - loss: 0.0091 - val_loss: 0.0037\n",
            "Epoch 46/100\n",
            "88/88 [==============================] - 12s 140ms/step - loss: 0.0039 - val_loss: 0.0056\n",
            "Epoch 47/100\n",
            "88/88 [==============================] - 11s 130ms/step - loss: 0.0025 - val_loss: 0.0033\n",
            "Epoch 48/100\n",
            "88/88 [==============================] - 11s 122ms/step - loss: 0.0027 - val_loss: 7.6580e-04\n",
            "Epoch 49/100\n",
            "88/88 [==============================] - 15s 168ms/step - loss: 0.0053 - val_loss: 0.0210\n",
            "Epoch 50/100\n",
            "88/88 [==============================] - 12s 141ms/step - loss: 0.0065 - val_loss: 0.0026\n",
            "Epoch 51/100\n",
            "88/88 [==============================] - 11s 126ms/step - loss: 0.0069 - val_loss: 0.0030\n",
            "Epoch 52/100\n",
            "88/88 [==============================] - 12s 138ms/step - loss: 0.0029 - val_loss: 0.0022\n",
            "Epoch 53/100\n",
            "88/88 [==============================] - 14s 156ms/step - loss: 0.0025 - val_loss: 0.0019\n",
            "Epoch 54/100\n",
            "88/88 [==============================] - 13s 148ms/step - loss: 0.0022 - val_loss: 0.0020\n",
            "Epoch 55/100\n",
            "88/88 [==============================] - 12s 137ms/step - loss: 0.0012 - val_loss: 8.9723e-04\n",
            "Epoch 56/100\n",
            "88/88 [==============================] - 14s 158ms/step - loss: 9.8242e-04 - val_loss: 2.5749e-04\n",
            "Epoch 57/100\n",
            "88/88 [==============================] - 12s 139ms/step - loss: 7.3458e-04 - val_loss: 0.0014\n",
            "Epoch 58/100\n",
            "88/88 [==============================] - 12s 139ms/step - loss: 6.3083e-04 - val_loss: 4.6229e-04\n",
            "Epoch 59/100\n",
            "88/88 [==============================] - 12s 138ms/step - loss: 2.3479e-04 - val_loss: 3.0426e-04\n",
            "Epoch 60/100\n",
            "88/88 [==============================] - 14s 157ms/step - loss: 5.1965e-04 - val_loss: 0.0019\n",
            "Epoch 61/100\n",
            "88/88 [==============================] - 12s 140ms/step - loss: 4.4148e-04 - val_loss: 3.2197e-05\n",
            "Epoch 62/100\n",
            "88/88 [==============================] - 12s 139ms/step - loss: 9.5101e-04 - val_loss: 8.9707e-04\n",
            "Epoch 63/100\n",
            "88/88 [==============================] - 14s 158ms/step - loss: 6.8920e-04 - val_loss: 0.0013\n",
            "Epoch 64/100\n",
            "88/88 [==============================] - 12s 141ms/step - loss: 7.3227e-04 - val_loss: 3.0974e-04\n",
            "Epoch 65/100\n",
            "88/88 [==============================] - 13s 143ms/step - loss: 7.1611e-04 - val_loss: 5.4510e-04\n",
            "Epoch 66/100\n",
            "88/88 [==============================] - 13s 143ms/step - loss: 0.0010 - val_loss: 8.5475e-05\n",
            "Epoch 67/100\n",
            "88/88 [==============================] - 13s 146ms/step - loss: 0.0012 - val_loss: 5.8521e-05\n",
            "Epoch 68/100\n",
            "88/88 [==============================] - 13s 148ms/step - loss: 0.0014 - val_loss: 7.5518e-04\n",
            "Epoch 69/100\n",
            "88/88 [==============================] - 12s 140ms/step - loss: 0.0014 - val_loss: 0.0146\n",
            "Epoch 70/100\n",
            "88/88 [==============================] - 12s 141ms/step - loss: 0.0032 - val_loss: 7.0399e-05\n",
            "Epoch 71/100\n",
            "88/88 [==============================] - 12s 139ms/step - loss: 9.9353e-04 - val_loss: 0.0010\n",
            "Epoch 72/100\n",
            "88/88 [==============================] - 12s 137ms/step - loss: 8.2909e-04 - val_loss: 9.3315e-05\n",
            "Epoch 73/100\n",
            "88/88 [==============================] - 13s 142ms/step - loss: 5.5744e-04 - val_loss: 0.0024\n",
            "Epoch 74/100\n",
            "88/88 [==============================] - 13s 149ms/step - loss: 0.0024 - val_loss: 0.0016\n",
            "Epoch 75/100\n",
            "88/88 [==============================] - 14s 162ms/step - loss: 0.0081 - val_loss: 0.0092\n",
            "Epoch 76/100\n",
            "88/88 [==============================] - 13s 149ms/step - loss: 0.0094 - val_loss: 0.0083\n",
            "Epoch 77/100\n",
            "88/88 [==============================] - 13s 145ms/step - loss: 0.0059 - val_loss: 0.0029\n",
            "Epoch 78/100\n",
            "88/88 [==============================] - 13s 143ms/step - loss: 0.0040 - val_loss: 0.0072\n",
            "Epoch 79/100\n",
            "88/88 [==============================] - 15s 170ms/step - loss: 0.0037 - val_loss: 0.0012\n",
            "Epoch 80/100\n",
            "88/88 [==============================] - 14s 154ms/step - loss: 0.0019 - val_loss: 0.0012\n",
            "Epoch 81/100\n",
            "88/88 [==============================] - 13s 147ms/step - loss: 0.0016 - val_loss: 7.4243e-04\n",
            "Epoch 82/100\n",
            "88/88 [==============================] - 13s 145ms/step - loss: 6.8483e-04 - val_loss: 5.2843e-04\n",
            "Epoch 83/100\n",
            "88/88 [==============================] - 14s 162ms/step - loss: 7.5693e-04 - val_loss: 9.2226e-04\n",
            "Epoch 84/100\n",
            "88/88 [==============================] - 13s 147ms/step - loss: 0.0023 - val_loss: 2.2587e-04\n",
            "Epoch 85/100\n",
            "88/88 [==============================] - 13s 145ms/step - loss: 6.3338e-04 - val_loss: 6.7941e-04\n",
            "Epoch 86/100\n",
            "88/88 [==============================] - 13s 148ms/step - loss: 0.0010 - val_loss: 0.0013\n",
            "Epoch 87/100\n",
            "88/88 [==============================] - 15s 165ms/step - loss: 6.1252e-04 - val_loss: 6.3027e-04\n",
            "Epoch 88/100\n",
            "88/88 [==============================] - 13s 147ms/step - loss: 5.7477e-04 - val_loss: 7.1933e-04\n",
            "Epoch 89/100\n",
            "88/88 [==============================] - 13s 149ms/step - loss: 6.1662e-04 - val_loss: 1.4499e-04\n",
            "Epoch 90/100\n",
            "88/88 [==============================] - 13s 144ms/step - loss: 3.2165e-04 - val_loss: 5.5453e-05\n",
            "Epoch 91/100\n",
            "88/88 [==============================] - 13s 146ms/step - loss: 5.1001e-05 - val_loss: 3.0319e-05\n",
            "Epoch 92/100\n",
            "88/88 [==============================] - 13s 147ms/step - loss: 3.6363e-04 - val_loss: 0.0012\n",
            "Epoch 93/100\n",
            "88/88 [==============================] - 13s 145ms/step - loss: 2.8010e-04 - val_loss: 7.4045e-04\n",
            "Epoch 94/100\n",
            "88/88 [==============================] - 14s 160ms/step - loss: 5.9476e-04 - val_loss: 1.9016e-05\n",
            "Epoch 95/100\n",
            "88/88 [==============================] - 12s 140ms/step - loss: 5.8352e-04 - val_loss: 1.4840e-05\n",
            "Epoch 96/100\n",
            "88/88 [==============================] - 13s 143ms/step - loss: 5.4234e-04 - val_loss: 7.0579e-04\n",
            "Epoch 97/100\n",
            "88/88 [==============================] - 13s 146ms/step - loss: 2.4760e-04 - val_loss: 4.2640e-04\n",
            "Epoch 98/100\n",
            "88/88 [==============================] - 14s 159ms/step - loss: 5.9555e-04 - val_loss: 7.3451e-04\n",
            "Epoch 99/100\n",
            "88/88 [==============================] - 16s 187ms/step - loss: 3.2561e-04 - val_loss: 5.5441e-04\n",
            "Epoch 100/100\n",
            "88/88 [==============================] - 15s 175ms/step - loss: 2.4662e-04 - val_loss: 8.1347e-06\n"
          ]
        }
      ],
      "source": [
        "history = model.fit(train, epochs=100, validation_data=val)"
      ]
    },
    {
      "cell_type": "code",
      "execution_count": null,
      "metadata": {
        "tags": [],
        "id": "toh50TnUbYA0"
      },
      "outputs": [],
      "source": [
        "from matplotlib import pyplot as plt"
      ]
    },
    {
      "cell_type": "code",
      "execution_count": null,
      "metadata": {
        "jupyter": {
          "outputs_hidden": true
        },
        "tags": [],
        "id": "i2iK3EENbYA1"
      },
      "outputs": [],
      "source": [
        "plt.figure(figsize=(8,5))\n",
        "pd.DataFrame(history.history).plot()\n",
        "plt.show()"
      ]
    },
    {
      "cell_type": "markdown",
      "metadata": {
        "id": "AL9KfGWMbYA1"
      },
      "source": [
        "# 3. Make Predictions"
      ]
    },
    {
      "cell_type": "code",
      "execution_count": null,
      "metadata": {
        "tags": [],
        "id": "Ovxoku6ibYA1"
      },
      "outputs": [],
      "source": [
        "input_text = vectorizer('You freaking suck! I am going to hit you.')"
      ]
    },
    {
      "cell_type": "code",
      "source": [
        "input_text"
      ],
      "metadata": {
        "id": "mKsA-VtYY1lX"
      },
      "execution_count": null,
      "outputs": []
    },
    {
      "cell_type": "code",
      "execution_count": null,
      "metadata": {
        "tags": [],
        "id": "WUvcPuWabYA1"
      },
      "outputs": [],
      "source": [
        "res = model.predict(np.expand_dims(input_text, 0))"
      ]
    },
    {
      "cell_type": "code",
      "execution_count": null,
      "metadata": {
        "jupyter": {
          "source_hidden": true
        },
        "id": "4_CGuPpxbYA1"
      },
      "outputs": [],
      "source": [
        "(res > 0.5).astype(int)"
      ]
    },
    {
      "cell_type": "code",
      "execution_count": null,
      "metadata": {
        "id": "anSajKHKbYA1"
      },
      "outputs": [],
      "source": [
        "batch_X, batch_y = test.as_numpy_iterator().next()"
      ]
    },
    {
      "cell_type": "code",
      "execution_count": null,
      "metadata": {
        "jupyter": {
          "outputs_hidden": true
        },
        "tags": [],
        "id": "cJNClj6ZbYA2"
      },
      "outputs": [],
      "source": [
        "(model.predict(batch_X) > 0.5).astype(int)"
      ]
    },
    {
      "cell_type": "code",
      "execution_count": null,
      "metadata": {
        "id": "GV18A_8GbYA2"
      },
      "outputs": [],
      "source": [
        "res.shape"
      ]
    },
    {
      "cell_type": "markdown",
      "metadata": {
        "id": "JMAA9TywbYA2"
      },
      "source": [
        "# 4. Evaluate Model"
      ]
    },
    {
      "cell_type": "code",
      "execution_count": null,
      "metadata": {
        "tags": [],
        "id": "TVuYUMLRbYA2"
      },
      "outputs": [],
      "source": [
        "from tensorflow.keras.metrics import Precision, Recall, CategoricalAccuracy"
      ]
    },
    {
      "cell_type": "code",
      "execution_count": null,
      "metadata": {
        "tags": [],
        "id": "jvPkdMxMbYA2"
      },
      "outputs": [],
      "source": [
        "pre = Precision()\n",
        "re = Recall()\n",
        "acc = CategoricalAccuracy()"
      ]
    },
    {
      "cell_type": "code",
      "execution_count": null,
      "metadata": {
        "tags": [],
        "id": "OwVX4fX3bYA3"
      },
      "outputs": [],
      "source": [
        "for batch in test.as_numpy_iterator(): \n",
        "    # Unpack the batch \n",
        "    X_true, y_true = batch\n",
        "    # Make a prediction \n",
        "    yhat = model.predict(X_true)\n",
        "    \n",
        "    # Flatten the predictions\n",
        "    y_true = y_true.flatten()\n",
        "    yhat = yhat.flatten()\n",
        "    \n",
        "    pre.update_state(y_true, yhat)\n",
        "    re.update_state(y_true, yhat)\n",
        "    acc.update_state(y_true, yhat)"
      ]
    },
    {
      "cell_type": "code",
      "execution_count": null,
      "metadata": {
        "tags": [],
        "id": "bgx6L1l5bYA3"
      },
      "outputs": [],
      "source": [
        "print(f'Precision: {pre.result().numpy()}, Recall:{re.result().numpy()}, Accuracy:{acc.result().numpy()}')"
      ]
    },
    {
      "cell_type": "code",
      "source": [
        "F1 = 2 * (pre.result().numpy() * re.result().numpy())/(pre.result().numpy() + re.result().numpy())"
      ],
      "metadata": {
        "id": "soQF61BmG7Xc"
      },
      "execution_count": null,
      "outputs": []
    },
    {
      "cell_type": "code",
      "source": [
        "F1"
      ],
      "metadata": {
        "id": "ZCtB3s78IPHq"
      },
      "execution_count": null,
      "outputs": []
    },
    {
      "cell_type": "markdown",
      "metadata": {
        "id": "G14AdWsRbYA3"
      },
      "source": [
        "# 5. Test and Gradio"
      ]
    },
    {
      "cell_type": "code",
      "execution_count": null,
      "metadata": {
        "collapsed": true,
        "jupyter": {
          "outputs_hidden": true
        },
        "tags": [],
        "id": "yWdPyxHWbYA3"
      },
      "outputs": [],
      "source": [
        "!pip install gradio jinja2"
      ]
    },
    {
      "cell_type": "code",
      "execution_count": null,
      "metadata": {
        "collapsed": true,
        "jupyter": {
          "outputs_hidden": true
        },
        "tags": [],
        "id": "rDv-TogpbYA4"
      },
      "outputs": [],
      "source": [
        "import tensorflow as tf\n",
        "import gradio as gr"
      ]
    },
    {
      "cell_type": "code",
      "execution_count": null,
      "metadata": {
        "tags": [],
        "id": "da-WR6pvbYA4"
      },
      "outputs": [],
      "source": [
        "model.save('toxicity.h5')"
      ]
    },
    {
      "cell_type": "code",
      "execution_count": null,
      "metadata": {
        "tags": [],
        "id": "FkH8_kPybYA4"
      },
      "outputs": [],
      "source": [
        "model = tf.keras.models.load_model('toxicity.h5')"
      ]
    },
    {
      "cell_type": "code",
      "execution_count": null,
      "metadata": {
        "tags": [],
        "id": "59teKjVPbYA4"
      },
      "outputs": [],
      "source": [
        "input_str = vectorizer('hey i freaken hate you!')"
      ]
    },
    {
      "cell_type": "code",
      "execution_count": null,
      "metadata": {
        "tags": [],
        "id": "323MoWzGbYA5"
      },
      "outputs": [],
      "source": [
        "res = model.predict(np.expand_dims(input_str,0))"
      ]
    },
    {
      "cell_type": "code",
      "execution_count": null,
      "metadata": {
        "tags": [],
        "id": "hdNXDOJ7bYA5"
      },
      "outputs": [],
      "source": [
        "res"
      ]
    },
    {
      "cell_type": "code",
      "execution_count": null,
      "metadata": {
        "tags": [],
        "id": "VxEVXfmcbYA5"
      },
      "outputs": [],
      "source": [
        "def score_comment(comment):\n",
        "    vectorized_comment = vectorizer([comment])\n",
        "    results = model.predict(vectorized_comment)\n",
        "    \n",
        "    text = ''\n",
        "    for idx, col in enumerate(df.columns[2:]):\n",
        "        text += '{}: {}\\n'.format(col, results[0][idx]>0.5)\n",
        "    \n",
        "    return text"
      ]
    },
    {
      "cell_type": "code",
      "execution_count": null,
      "metadata": {
        "tags": [],
        "id": "tIkiWDGZbYA5"
      },
      "outputs": [],
      "source": [
        "interface = gr.Interface(fn=score_comment, \n",
        "                         inputs=gr.inputs.Textbox(lines=2, placeholder='Comment to score'),\n",
        "                        outputs='text')"
      ]
    },
    {
      "cell_type": "code",
      "execution_count": null,
      "metadata": {
        "tags": [],
        "id": "jyVdiKRCbYA5"
      },
      "outputs": [],
      "source": [
        "interface.launch(share=True)"
      ]
    }
  ],
  "metadata": {
    "kernelspec": {
      "display_name": "toxic",
      "language": "python",
      "name": "toxic"
    },
    "language_info": {
      "codemirror_mode": {
        "name": "ipython",
        "version": 3
      },
      "file_extension": ".py",
      "mimetype": "text/x-python",
      "name": "python",
      "nbconvert_exporter": "python",
      "pygments_lexer": "ipython3",
      "version": "3.9.7"
    },
    "colab": {
      "provenance": [],
      "collapsed_sections": [
        "AL9KfGWMbYA1",
        "JMAA9TywbYA2",
        "G14AdWsRbYA3"
      ]
    }
  },
  "nbformat": 4,
  "nbformat_minor": 0
}